{
 "cells": [
  {
   "cell_type": "markdown",
   "metadata": {},
   "source": [
    "# <center> Class 3</center>"
   ]
  },
  {
   "cell_type": "markdown",
   "metadata": {},
   "source": [
    "#### Fill in the blanks where appropriate...."
   ]
  },
  {
   "cell_type": "markdown",
   "metadata": {},
   "source": [
    "# Review: 1. Lists"
   ]
  },
  {
   "cell_type": "code",
   "execution_count": 4,
   "metadata": {},
   "outputs": [],
   "source": [
    "# Initialize an empty list\n",
    "my_list = []\n",
    "\n",
    "# Let's add 3 values...\n",
    "my_list.append('Python')\n",
    "my_list.append('is ok')\n",
    "my_list.append('sometimes')\n",
    "\n",
    "# Let's remove one of the values\n",
    "my_list.remove('sometimes')\n",
    "\n",
    "# Change the second item to a different string.\n",
    "my_list[1] = 'is neat'\n",
    "\n",
    "# Verify that it's correct\n",
    "assert my_list == ['Python', 'is neat']"
   ]
  },
  {
   "cell_type": "code",
   "execution_count": 15,
   "metadata": {},
   "outputs": [],
   "source": [
    "# New list without modifying original one\n",
    "original = ['I', 'am' , 'learning', 'hacking', 'in']\n",
    "\n",
    "# TODO:\n",
    "modified = original[:]\n",
    "# by using \"[:]\", you avoid modifying the variables inside \"original\"\n",
    "modified.append('Python')\n",
    "modified[3] = 'lists'\n",
    "\n",
    "assert original == ['I', 'am', 'learning', 'hacking', 'in']\n",
    "assert modified == ['I', 'am', 'learning', 'lists', 'in', 'Python']"
   ]
  },
  {
   "cell_type": "code",
   "execution_count": 16,
   "metadata": {},
   "outputs": [
    {
     "name": "stdout",
     "output_type": "stream",
     "text": [
      "[14, 12, 6.2, 6, 5, 1, 0.9, 0]\n"
     ]
    }
   ],
   "source": [
    "# Merged Sorted List\n",
    "list1 = [6, 12, 5, 0.9]\n",
    "list2 = [6.2, 0, 14, 1]\n",
    "\n",
    "### TODO:\n",
    "my_list = sorted(list1, reverse = True) + sorted(list2, reverse = True)\n",
    "my_list = sorted(my_list, reverse = True)\n",
    "\n",
    "print(my_list)\n",
    "assert my_list == [14, 12, 6.2, 6, 5, 1, 0.9, 0]"
   ]
  },
  {
   "cell_type": "markdown",
   "metadata": {},
   "source": [
    "# 2. Dictionaries"
   ]
  },
  {
   "cell_type": "code",
   "execution_count": 29,
   "metadata": {},
   "outputs": [
    {
     "data": {
      "text/plain": [
       "{'name': 'John Doe', 'age': 82, 'hobbies': ['Python', 'gym']}"
      ]
     },
     "execution_count": 29,
     "metadata": {},
     "output_type": "execute_result"
    }
   ],
   "source": [
    "first_name = 'John'\n",
    "last_name = 'Doe'\n",
    "favorite_hobby = 'Python'\n",
    "sports_hobby = 'gym'\n",
    "age = 82\n",
    "\n",
    "# TODO\n",
    "my_dict = {'name':first_name + \" \" + last_name, \n",
    "           'age':age, \n",
    "           'hobbies':[favorite_hobby, sports_hobby]}\n",
    "\n",
    "\n",
    "#\n",
    "my_dict"
   ]
  },
  {
   "cell_type": "code",
   "execution_count": 31,
   "metadata": {},
   "outputs": [],
   "source": [
    "assert my_dict == {\n",
    "    'name': 'John Doe',\n",
    "    'age': 82,\n",
    "    'hobbies': ['Python', 'gym']\n",
    "}"
   ]
  },
  {
   "cell_type": "code",
   "execution_count": 4,
   "metadata": {
    "ExecuteTime": {
     "end_time": "2021-02-21T07:52:12.232046Z",
     "start_time": "2021-02-21T07:52:12.228321Z"
    }
   },
   "outputs": [],
   "source": [
    "## Accessing and merging keys\n",
    "\n",
    "dict1 = {'k1': 'This is not that hard', 'k2': \"Python is cool\"}\n",
    "dict2 = {'k1': 123, 'special_key': 'secret'}\n",
    "\n",
    "dict3 = {'key2': 456, 'KeyX': 'x'}"
   ]
  },
  {
   "cell_type": "code",
   "execution_count": 5,
   "metadata": {},
   "outputs": [],
   "source": [
    "# TODO\n",
    "my_dict = dict3\n",
    "my_dict['k1'] = dict2['k1']\n",
    "my_dict['k2'] = my_dict['key2']\n",
    "del my_dict['key2']\n",
    "\n",
    "special_value = dict2['special_key']\n",
    "\n",
    "assert my_dict == {'k1': 123, 'k2': 456, 'KeyX': 'x'}\n",
    "assert special_value == 'secret'"
   ]
  },
  {
   "cell_type": "markdown",
   "metadata": {},
   "source": [
    "# 3. For Loops"
   ]
  },
  {
   "cell_type": "code",
   "execution_count": 37,
   "metadata": {
    "ExecuteTime": {
     "end_time": "2021-02-21T07:55:35.284992Z",
     "start_time": "2021-02-21T07:55:35.250690Z"
    }
   },
   "outputs": [
    {
     "ename": "AssertionError",
     "evalue": "",
     "output_type": "error",
     "traceback": [
      "\u001b[0;31m---------------------------------------------------------------------------\u001b[0m",
      "\u001b[0;31mAssertionError\u001b[0m                            Traceback (most recent call last)",
      "\u001b[0;32m<ipython-input-37-07871fc4db29>\u001b[0m in \u001b[0;36m<module>\u001b[0;34m\u001b[0m\n\u001b[1;32m     28\u001b[0m \u001b[0;34m\u001b[0m\u001b[0m\n\u001b[1;32m     29\u001b[0m \u001b[0;34m\u001b[0m\u001b[0m\n\u001b[0;32m---> 30\u001b[0;31m \u001b[0;32massert\u001b[0m \u001b[0mupper_case_words\u001b[0m \u001b[0;34m==\u001b[0m \u001b[0;34m[\u001b[0m\u001b[0;34m'PYTHON'\u001b[0m\u001b[0;34m,\u001b[0m \u001b[0;34m'JOHN'\u001b[0m\u001b[0;34m,\u001b[0m \u001b[0;34m'DOE'\u001b[0m\u001b[0;34m]\u001b[0m\u001b[0;34m\u001b[0m\u001b[0;34m\u001b[0m\u001b[0m\n\u001b[0m\u001b[1;32m     31\u001b[0m \u001b[0;32massert\u001b[0m \u001b[0mcapitalized_and_sorted_words\u001b[0m \u001b[0;34m==\u001b[0m \u001b[0;34m[\u001b[0m\u001b[0;34m'123'\u001b[0m\u001b[0;34m,\u001b[0m \u001b[0;34m'Cheese'\u001b[0m\u001b[0;34m,\u001b[0m \u001b[0;34m'Die'\u001b[0m\u001b[0;34m,\u001b[0m \u001b[0;34m'Ham'\u001b[0m\u001b[0;34m,\u001b[0m \u001b[0;34m'John'\u001b[0m\u001b[0;34m,\u001b[0m \u001b[0;34m'Python'\u001b[0m\u001b[0;34m]\u001b[0m\u001b[0;34m\u001b[0m\u001b[0;34m\u001b[0m\u001b[0m\n",
      "\u001b[0;31mAssertionError\u001b[0m: "
     ]
    }
   ],
   "source": [
    "words = ['PYTHON', 'JOHN', 'chEEse', 'hAm', 'DOE', '123']\n",
    "upper_case_words = []\n",
    "capitalized_and_sorted_words = []\n",
    "\n",
    "words = [w.upper() for w in words]\n",
    "#another way to do it\n",
    "words = []\n",
    "for w in words:\n",
    "    words.append(w.upper())\n",
    "#another way to do it 2\n",
    "\n",
    "for x in words:\n",
    "    if x.isupper():\n",
    "        upper_case_words.append(x)\n",
    "        \n",
    "    capitalized_word = word.title()\n",
    "    capitalized_and_sorted_words.append(capitalized_word)\n",
    "    \n",
    "capitalized_and_sorted_words = sorted(capitalized_and_sorted_words)\n",
    "        \n",
    "    #TODO: Capitalize all words and sort list\n",
    "    \n",
    "# CHALLENGE:\n",
    "# Create the above lists in one line! Ask me if you have questions.\n",
    "# AKA List comprehension\n",
    "upper_case_words = [word for word in words if word.isupper()]\n",
    "capitalized_and_sorted_words = sorted([word.title() for word in words])\n",
    "\n",
    "\n",
    "\n",
    "assert upper_case_words == ['PYTHON', 'JOHN', 'DOE']\n",
    "assert capitalized_and_sorted_words == ['123', 'Cheese', 'Die', 'Ham', 'John', 'Python']"
   ]
  },
  {
   "cell_type": "code",
   "execution_count": 36,
   "metadata": {
    "ExecuteTime": {
     "end_time": "2021-02-21T08:36:21.607867Z",
     "start_time": "2021-02-21T08:36:21.599058Z"
    }
   },
   "outputs": [
    {
     "name": "stdout",
     "output_type": "stream",
     "text": [
      "My key:  k1\n",
      "My Values:  44\n",
      "\t Is int?:  44\n",
      "My key:  k2\n",
      "My Values:  secret value\n",
      "My key:  k3\n",
      "My Values:  55\n",
      "\t Is int?:  55\n",
      "My key:  k4\n",
      "My Values:  1\n",
      "\t Is int?:  1\n"
     ]
    }
   ],
   "source": [
    "# Calculate the sum of dict values\n",
    "values = {'k1':44, 'k2': 'secret value', 'k3': 55, 'k4': 1}\n",
    "\n",
    "sum_of_values = 0\n",
    "# for loop, and add each number to the sum of values\n",
    "for key in values:\n",
    "    print('My key: ', key)\n",
    "    print('My Values: ', values[key])\n",
    "    \n",
    "    if type(values[key]) == int:\n",
    "        print(\"\\t Is int?: \", values[key])\n",
    "        sum_of_values += values[key]\n",
    "\n",
    "# TODO\n",
    "\n",
    "assert sum_of_values == 100"
   ]
  },
  {
   "cell_type": "code",
   "execution_count": null,
   "metadata": {},
   "outputs": [],
   "source": [
    "# Create a list of strings based on a list of numbers\n",
    "numbers = [1, 3, 4, 6, 81, 80, 100, 95]\n",
    "\n",
    "# TODO\n",
    "\n",
    "assert my_list == ['odd', 'odd', 'even', 'eve', 'odd', 'five even', 'five even', 'five odd']"
   ]
  },
  {
   "cell_type": "markdown",
   "metadata": {},
   "source": [
    "# 4. Functions\n"
   ]
  },
  {
   "cell_type": "code",
   "execution_count": null,
   "metadata": {},
   "outputs": [],
   "source": [
    "____ count_even_numbers(numbers):\n",
    "    count = 0\n",
    "    for num in _____:\n",
    "        if ____ % 2 == _____:\n",
    "            count += ______\n",
    "    ______ ______\n",
    "    "
   ]
  },
  {
   "cell_type": "code",
   "execution_count": null,
   "metadata": {},
   "outputs": [],
   "source": [
    "assert count_even_numbers ([1, 2, 3, 4, 5, 6] == 3)\n",
    "assert count_even_numbers ([1, 3, 5, 7] == 0)\n",
    "assert count_even_numbers ([-2, 2, -10, 8] == 4)"
   ]
  },
  {
   "cell_type": "markdown",
   "metadata": {},
   "source": [
    "### Search for the wanted people\n",
    "Implement find_wanted_people which takes a list of names (strings) as arguments\n",
    "The function should return a list of names which are present both in WANTED and in the name list given as argument to the function."
   ]
  },
  {
   "cell_type": "code",
   "execution_count": null,
   "metadata": {},
   "outputs": [],
   "source": [
    "WANTED = ['John Doe', 'Clint Eastwood', 'Chuck Norris']\n",
    "\n",
    "# TODO:\n",
    "\n",
    "people_to_check1 = ['Donald Duck', 'Clint Eastwood', 'John Doe', 'Barack Obama']\n",
    "\n",
    "wanted1 = find_wnated_people(people_to_check1)\n",
    "assert len(wanted1) == 2\n",
    "assert 'John Doe' in wanted1\n",
    "assert 'Clint Eastwood' in wanted1\n",
    "\n",
    "people_to_check2 = ['Donald Duck', 'Mickey Mouse', 'Zorro', 'Superman', 'Robin Hood']\n",
    "wanted = find_wanted_people(people_to_check2)\n",
    "assert wanted == []"
   ]
  },
  {
   "cell_type": "markdown",
   "metadata": {},
   "source": [
    "### Counting Average Length of Words in a Sentence\n",
    "\n",
    "Create a function `average_length_of_words` which takes a string as an argument and returns the average length of words in the string.  You can assume that there is a single space between each word and that the input does not have punctuation.  The result should be rounded to one decimal place.\n",
    "\n",
    "_hint: You may need to round your answer.... use whatever method you can muster (or find online!)"
   ]
  },
  {
   "cell_type": "code",
   "execution_count": null,
   "metadata": {
    "ExecuteTime": {
     "end_time": "2021-02-21T08:43:54.374300Z",
     "start_time": "2021-02-21T08:43:54.365817Z"
    }
   },
   "outputs": [],
   "source": [
    "### TODO:\n",
    "\n",
    "assert average_length_of_words ('only four lett erwo rdss') == 4\n",
    "assert average_length_of_words ('one two three') == 3.7\n",
    "assert average_length_of_words ('only four lett erwo rdss') == 4\n",
    "assert average_length_of_words ('') == 0"
   ]
  },
  {
   "cell_type": "markdown",
   "metadata": {},
   "source": [
    "## Unnamed functions (lambda function)\n",
    "In Python we can also create unnamed functions, using the lambda keyword:"
   ]
  },
  {
   "cell_type": "code",
   "execution_count": null,
   "metadata": {},
   "outputs": [],
   "source": [
    "f1 = lambda x: x**2\n",
    "    \n",
    "# is equivalent to \n",
    "\n",
    "def f2(x):\n",
    "    return x**2\n",
    "\n",
    "f1(2), f2(2)"
   ]
  },
  {
   "cell_type": "markdown",
   "metadata": {},
   "source": [
    "This technique is useful for example when we want to pass a simple function as an argument to another function, like this:"
   ]
  },
  {
   "cell_type": "code",
   "execution_count": null,
   "metadata": {},
   "outputs": [],
   "source": [
    "# map is a built-in python function\n",
    "map(lambda x: x**2, range(-3,4))"
   ]
  },
  {
   "cell_type": "code",
   "execution_count": 18,
   "metadata": {
    "ExecuteTime": {
     "end_time": "2021-02-21T08:49:30.076118Z",
     "start_time": "2021-02-21T08:49:30.051601Z"
    }
   },
   "outputs": [
    {
     "name": "stdout",
     "output_type": "stream",
     "text": [
      "Help on class map in module builtins:\n",
      "\n",
      "class map(object)\n",
      " |  map(func, *iterables) --> map object\n",
      " |  \n",
      " |  Make an iterator that computes the function using arguments from\n",
      " |  each of the iterables.  Stops when the shortest iterable is exhausted.\n",
      " |  \n",
      " |  Methods defined here:\n",
      " |  \n",
      " |  __getattribute__(self, name, /)\n",
      " |      Return getattr(self, name).\n",
      " |  \n",
      " |  __iter__(self, /)\n",
      " |      Implement iter(self).\n",
      " |  \n",
      " |  __next__(self, /)\n",
      " |      Implement next(self).\n",
      " |  \n",
      " |  __reduce__(...)\n",
      " |      Return state information for pickling.\n",
      " |  \n",
      " |  ----------------------------------------------------------------------\n",
      " |  Static methods defined here:\n",
      " |  \n",
      " |  __new__(*args, **kwargs) from builtins.type\n",
      " |      Create and return a new object.  See help(type) for accurate signature.\n",
      "\n"
     ]
    }
   ],
   "source": [
    "help(map)"
   ]
  },
  {
   "cell_type": "code",
   "execution_count": null,
   "metadata": {},
   "outputs": [],
   "source": [
    "# in python 3 we can use `list(...)` to convert the iterator to an explicit list\n",
    "list(map(lambda x: x**2, range(-3,4)))"
   ]
  },
  {
   "cell_type": "code",
   "execution_count": 19,
   "metadata": {
    "ExecuteTime": {
     "end_time": "2021-02-21T08:51:39.056295Z",
     "start_time": "2021-02-21T08:51:39.052558Z"
    }
   },
   "outputs": [],
   "source": [
    "# Sort the following list to the order specified in the assertion \n",
    "# (hint: you'll have to use a sorting key and a lambda function to sort by the second letter in the word)\n",
    "\n",
    "my_list = ['Albuquerque', 'State', 'new Mexico', 'ArIzoNa']\n",
    "\n",
    "## TODO\n",
    "my_list = \n",
    "\n",
    "assert my_list = ['Arizona', 'State', 'Albuquerque', 'New Mexico']"
   ]
  },
  {
   "cell_type": "markdown",
   "metadata": {},
   "source": [
    "## BONUS IF YOU'RE A FAST COOKIE"
   ]
  },
  {
   "cell_type": "markdown",
   "metadata": {},
   "source": [
    "Implement a name_mapping function which takes a collection of names as argument.\n",
    "\n",
    "### The specification for name_mapping\n",
    "* you can assume that all the elements in the names collection are strings\n",
    "* if the provided names collection is empty, returns an empty dictionary.\n",
    "* returns a dictionary of dictionaries\n",
    "    * outer dictionary should contain keys vowel and consonant\n",
    "    * vowel and consonant keys should have dictionaries of names (keys) and their occurrences (values) as values\n",
    "    * names belong to either vowel or consonant based on their first letter\n",
    "    * vowels are defined by the VOWELS constant\n",
    "    * if there are only names starting with a vowel, consonant key should not be present in the return value (same applies vice versa)\n",
    "* see the tests below for complete examples\n",
    "\n",
    "Tip: `defaultdict` and Counter may be helpful here :)"
   ]
  },
  {
   "cell_type": "code",
   "execution_count": null,
   "metadata": {},
   "outputs": [],
   "source": [
    "VOWELS = ('a', 'e', 'i', 'o', 'u')"
   ]
  },
  {
   "cell_type": "code",
   "execution_count": null,
   "metadata": {},
   "outputs": [],
   "source": [
    "def name_mapping(names):\n",
    "    # Your implementation here"
   ]
  },
  {
   "cell_type": "code",
   "execution_count": null,
   "metadata": {},
   "outputs": [],
   "source": [
    "names = ('Alice', 'John', 'Lisa', 'John', 'Eric', 'Waldo', 'annie', 'Alice', 'John')\n",
    "expected = {\n",
    "    'consonant': {\n",
    "        'John': 3,\n",
    "        'Waldo': 1,\n",
    "        'Lisa': 1\n",
    "    },\n",
    "    'vowel': {\n",
    "        'Alice': 2,\n",
    "        'annie': 1,\n",
    "        'Eric': 1\n",
    "    }\n",
    "}\n",
    "assert name_mapping(names) == expected\n",
    "print('First ok!')\n",
    "\n",
    "only_consonants = ('John', 'Doe', 'Doe')\n",
    "expected2 = {\n",
    "    'consonant': {\n",
    "        'John': 1,\n",
    "        'Doe': 2\n",
    "    }\n",
    "}\n",
    "assert name_mapping(only_consonants) == expected2\n",
    "print('Second ok!')\n",
    "\n",
    "assert name_mapping([]) == {}\n",
    "\n",
    "print('All ok!')"
   ]
  },
  {
   "cell_type": "markdown",
   "metadata": {},
   "source": [
    "## BONUS TWO IF YOU'RE AN EXTRA FAST COOKIE"
   ]
  },
  {
   "cell_type": "markdown",
   "metadata": {},
   "source": [
    "Implement rock_paper_scissors function which takes the player's rock-paper-scissors choice as an input (as integer), randomly selects the choice of the computer and reveals it (prints) and finally announces (prints) the result. The function should return `PLAYER_WINS`, `COMPUTER_WINS` or `TIE`."
   ]
  },
  {
   "cell_type": "code",
   "execution_count": null,
   "metadata": {},
   "outputs": [],
   "source": [
    "# Constants, you should use these in your implementation\n",
    "ROCK = 1\n",
    "PAPER = 2\n",
    "SCISSORS = 3\n",
    "\n",
    "PLAYER_WINS = 'Player wins!! Woop woop!'\n",
    "COMPUTER_WINS = 'Robocop wins :-('\n",
    "TIE = \"It's a tie!\""
   ]
  },
  {
   "cell_type": "code",
   "execution_count": null,
   "metadata": {},
   "outputs": [],
   "source": [
    "## TODO: Implement"
   ]
  },
  {
   "cell_type": "code",
   "execution_count": null,
   "metadata": {},
   "outputs": [],
   "source": [
    "def play_rps():\n",
    "    print('Welcome to play rock-paper-scissors')\n",
    "    print('The options are:\\nrock: 1\\npaper: 2\\nscissors: 3')\n",
    "\n",
    "    result = TIE\n",
    "    while result == TIE:\n",
    "        player_choice = input('Give your choice\\n')\n",
    "        \n",
    "        if not player_choice in ['1', '2', '3']:\n",
    "            print('Invalid choice')\n",
    "            continue\n",
    "            \n",
    "        result = rock_paper_scissors(int(player_choice))"
   ]
  },
  {
   "cell_type": "code",
   "execution_count": null,
   "metadata": {},
   "outputs": [],
   "source": [
    "play_rps()"
   ]
  },
  {
   "cell_type": "markdown",
   "metadata": {},
   "source": [
    "If you copy the code from above cells into a single `.py` file, you have a rock-paper-scissor command line game!"
   ]
  },
  {
   "cell_type": "code",
   "execution_count": null,
   "metadata": {},
   "outputs": [],
   "source": []
  }
 ],
 "metadata": {
  "kernelspec": {
   "display_name": "Python 3",
   "language": "python",
   "name": "python3"
  },
  "language_info": {
   "codemirror_mode": {
    "name": "ipython",
    "version": 3
   },
   "file_extension": ".py",
   "mimetype": "text/x-python",
   "name": "python",
   "nbconvert_exporter": "python",
   "pygments_lexer": "ipython3",
   "version": "3.8.5"
  }
 },
 "nbformat": 4,
 "nbformat_minor": 4
}
